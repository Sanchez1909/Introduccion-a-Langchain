{
 "cells": [
  {
   "cell_type": "markdown",
   "metadata": {},
   "source": [
    "# Introduccion a Langchain\n",
    "\n",
    "## Antes de comenzar...\n",
    "\n",
    "Durante a lo largo de este repositorio estare hablando acerca de lo aprendido en langchain y como estuve trabajando con el, es por ello que sera necesario correr los modelos de manera local.\n",
    "En este caso estaremos haciendo el uso de Ollama y estaremos descargando algunos modelos segun se vayan necesitando.\n",
    "Para consultar mas informacion acerca de Ollama presiona [aqui.](https://www.canva.com/design/DAGSXGqF0_Q/Z4vLatR7sw6q7sdiwxQdOg/edit?utm_content=DAGSXGqF0_Q&utm_campaign=designshare&utm_medium=link2&utm_source=sharebutton)\n",
    "\n",
    "## Componentes esenciales\n",
    "\n",
    "---\n"
   ]
  },
  {
   "cell_type": "code",
   "execution_count": 11,
   "metadata": {},
   "outputs": [
    {
     "name": "stderr",
     "output_type": "stream",
     "text": [
      "WARNING: Ignoring invalid distribution ~ip (C:\\Users\\ilike\\AppData\\Local\\Programs\\Python\\Python311\\Lib\\site-packages)\n",
      "WARNING: Ignoring invalid distribution ~ip (C:\\Users\\ilike\\AppData\\Local\\Programs\\Python\\Python311\\Lib\\site-packages)\n",
      "WARNING: Ignoring invalid distribution ~ip (C:\\Users\\ilike\\AppData\\Local\\Programs\\Python\\Python311\\Lib\\site-packages)\n"
     ]
    }
   ],
   "source": [
    "!pip install ollama -q"
   ]
  },
  {
   "cell_type": "code",
   "execution_count": 12,
   "metadata": {},
   "outputs": [],
   "source": [
    "import ollama "
   ]
  },
  {
   "cell_type": "code",
   "execution_count": 13,
   "metadata": {},
   "outputs": [],
   "source": [
    "from langchain_community.llms import Ollama "
   ]
  },
  {
   "cell_type": "code",
   "execution_count": 14,
   "metadata": {},
   "outputs": [],
   "source": [
    "llm = Ollama(model=\"llama3.2\")"
   ]
  },
  {
   "cell_type": "code",
   "execution_count": 15,
   "metadata": {},
   "outputs": [
    {
     "name": "stdout",
     "output_type": "stream",
     "text": [
      "¡Claro! Aquí te dejo uno:\n",
      "\n",
      "¿Por qué la computadora fue al psicólogo?\n",
      "\n",
      "Porque tenía un problema de \"crash\" y necesitaba \"reprogramar\" su mente!\n",
      "\n",
      "Espero que te haya hecho sonreír. ¿Quieres escuchar otro?\n"
     ]
    }
   ],
   "source": [
    "respuesta = llm.invoke(\"Cuentame un chiste\")\n",
    "print(respuesta)"
   ]
  }
 ],
 "metadata": {
  "kernelspec": {
   "display_name": "Python 3",
   "language": "python",
   "name": "python3"
  },
  "language_info": {
   "codemirror_mode": {
    "name": "ipython",
    "version": 3
   },
   "file_extension": ".py",
   "mimetype": "text/x-python",
   "name": "python",
   "nbconvert_exporter": "python",
   "pygments_lexer": "ipython3",
   "version": "3.11.5"
  }
 },
 "nbformat": 4,
 "nbformat_minor": 2
}
