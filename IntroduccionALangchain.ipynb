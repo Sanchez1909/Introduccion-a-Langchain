{
 "cells": [
  {
   "cell_type": "markdown",
   "metadata": {},
   "source": [
    "# Introduccion a Langchain\n",
    "\n",
    "## Antes de comenzar...\n",
    "\n",
    "Durante a lo largo de este repositorio estare hablando acerca de lo aprendido en langchain y como estuve trabajando con el, es por ello que sera necesario correr los modelos de manera local.\n",
    "En este caso estaremos haciendo el uso de Ollama y estaremos descargando algunos modelos segun se vayan necesitando.\n",
    "Para consultar mas informacion acerca de Ollama presiona [aqui.](https://github.com/Sanchez1909/Introduccion-a-Langchain/blob/main/Ollama/Ollama.md)\n",
    "\n",
    "## Componentes esenciales\n",
    "\n",
    "Para llevar poder llevar acabo este curso, sera necesario tener instalado:\n",
    "- Visual Studio Code\n",
    "- Ollama\n",
    "    - nomic-embed-text (Nos servira para trabajar con los embeddings)\n",
    "    - llama3.2 / deepseek-r1:1.5b\n",
    "- Python\n",
    "- Jupyter Notebook/Google Colab\n",
    "\n",
    "---\n",
    "\n",
    "## Navegando por langchain\n",
    "\n",
    "En estos momentos, estaremos navegando por diferentes componentes de langchain para poder conocer sus diversas funcionalidades y poder trabajar con la biblioteca.\n",
    "\n",
    "---\n",
    "\n",
    "### Chat Models\n",
    "\n",
    "Estos componentes son abstracciones que encapsulan la interaccion con modelos de lenguaje de gran escala (LLM), facilitando la integracion de estos modelos en nuestras aplicaciones y añadiendoles diversas funcionalidades."
   ]
  },
  {
   "cell_type": "code",
   "execution_count": 11,
   "metadata": {},
   "outputs": [
    {
     "name": "stderr",
     "output_type": "stream",
     "text": [
      "WARNING: Ignoring invalid distribution ~ip (C:\\Users\\ilike\\AppData\\Local\\Programs\\Python\\Python311\\Lib\\site-packages)\n",
      "WARNING: Ignoring invalid distribution ~ip (C:\\Users\\ilike\\AppData\\Local\\Programs\\Python\\Python311\\Lib\\site-packages)\n",
      "WARNING: Ignoring invalid distribution ~ip (C:\\Users\\ilike\\AppData\\Local\\Programs\\Python\\Python311\\Lib\\site-packages)\n"
     ]
    }
   ],
   "source": [
    "!pip install langchain_ollama -q\n"
   ]
  },
  {
   "cell_type": "code",
   "execution_count": 18,
   "metadata": {},
   "outputs": [],
   "source": [
    "import ollama \n",
    "from langchain_ollama import ChatOllama "
   ]
  },
  {
   "cell_type": "code",
   "execution_count": 19,
   "metadata": {},
   "outputs": [
    {
     "name": "stdout",
     "output_type": "stream",
     "text": [
      "content='¿Por qué la computadora fue al doctor?\\n\\nPorque tenía un virus! (risas)\\n\\nEspero que te haya hecho sonreír. ¿Quieres escuchar otro?' additional_kwargs={} response_metadata={'model': 'llama3.2', 'created_at': '2025-02-07T19:06:19.2221659Z', 'message': {'role': 'assistant', 'content': ''}, 'done_reason': 'stop', 'done': True, 'total_duration': 27304272900, 'load_duration': 16659915200, 'prompt_eval_count': 31, 'prompt_eval_duration': 2249189000, 'eval_count': 39, 'eval_duration': 8345684000} id='run-e7d54938-b48b-44f9-bbf5-3bbeb5c8b89a-0' usage_metadata={'input_tokens': 31, 'output_tokens': 39, 'total_tokens': 70}\n"
     ]
    }
   ],
   "source": [
    "llm = ChatOllama(model=\"llama3.2\")\n",
    "respuesta = llm.invoke(\"Cuentame un chiste\")\n",
    "print(respuesta)"
   ]
  },
  {
   "cell_type": "markdown",
   "metadata": {},
   "source": [
    "> Importante tener en cuenta que el tiempo de procesamiento de la respuesta depende de la capacidad de nuestra computadora y del tamaño del modelo.\n",
    "\n",
    "### Prompt Templates\n",
    "\n",
    "Los Prompt Templates son plantillas que nos facilitan la generacion de prompts para poder unirlos con los modelos de lenguaje y conseguir resultados mas especificos.\n",
    "\n",
    "Son muy utilices, ya que son bastante flexibles y nos permiten que la necesidad de su rediseño sea minima."
   ]
  },
  {
   "cell_type": "code",
   "execution_count": null,
   "metadata": {},
   "outputs": [],
   "source": [
    "!pip install langchain.prompts"
   ]
  },
  {
   "cell_type": "code",
   "execution_count": null,
   "metadata": {},
   "outputs": [],
   "source": [
    "from langchain.prompts import PromptTemplate"
   ]
  },
  {
   "cell_type": "code",
   "execution_count": null,
   "metadata": {},
   "outputs": [],
   "source": [
    "promptTemplate = PromptTemplate.from_template()"
   ]
  }
 ],
 "metadata": {
  "kernelspec": {
   "display_name": "Python 3",
   "language": "python",
   "name": "python3"
  },
  "language_info": {
   "codemirror_mode": {
    "name": "ipython",
    "version": 3
   },
   "file_extension": ".py",
   "mimetype": "text/x-python",
   "name": "python",
   "nbconvert_exporter": "python",
   "pygments_lexer": "ipython3",
   "version": "3.11.5"
  }
 },
 "nbformat": 4,
 "nbformat_minor": 2
}
