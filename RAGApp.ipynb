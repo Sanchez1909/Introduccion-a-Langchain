{
 "cells": [
  {
   "cell_type": "code",
   "execution_count": 18,
   "metadata": {},
   "outputs": [],
   "source": [
    "import asyncio\n",
    "import nest_asyncio\n",
    "from langchain_community.document_loaders import WebBaseLoader\n",
    "from langchain_text_splitters import RecursiveCharacterTextSplitter\n",
    "from langchain_ollama import OllamaEmbeddings, ChatOllama\n",
    "from langchain_chroma import Chroma\n",
    "from langchain_core.output_parsers import StrOutputParser\n",
    "from langchain_core.prompts import ChatPromptTemplate\n",
    "from langchain_core.runnables import RunnablePassthrough\n",
    "from IPython.display import clear_output\n",
    "\n"
   ]
  },
  {
   "cell_type": "code",
   "execution_count": 19,
   "metadata": {},
   "outputs": [],
   "source": []
  },
  {
   "cell_type": "code",
   "execution_count": 29,
   "metadata": {},
   "outputs": [],
   "source": [
    "# Configuración del modelo de lenguaje y plantilla de RAG\n",
    "model = ChatOllama(model=\"smollm2:latest\")  # Cambiado a llama2 por compatibilidad\n",
    "\n",
    "RAG_TEMPLATE = \"\"\"\n",
    "Eres un asiste de preguntas y respuestas. Usa la informacion recuperada para contestar las preguntas, relacionadas al CADS. Si no sabes la respuesta, solo di que no conoces la respuesta. Usa tres sentencias como maximo para dar una respuesta concisa.\n",
    "\n",
    "<context>\n",
    "{context}\n",
    "</context>\n",
    "\n",
    "Contesta la siguiente pregunta: \n",
    "\n",
    "{question}\"\"\"\n",
    "\n",
    "rag_prompt = ChatPromptTemplate.from_template(RAG_TEMPLATE)\n",
    "\n",
    "# Definir la función para formatear documentos\n",
    "def format_docs(docs):\n",
    "    return \"\\n\\n\".join(doc.page_content for doc in docs)\n",
    "\n",
    "retriever = vectorstore.as_retriever()\n",
    "\n",
    "chain = (\n",
    "    {\"context\": retriever | format_docs, \"question\": RunnablePassthrough()}\n",
    "    | rag_prompt\n",
    "    | model\n",
    "    | StrOutputParser()\n",
    ")\n",
    "\n",
    "# Función para manejar una sola pregunta\n",
    "async def process_question(question):\n",
    "    print(f\"Procesando pregunta: {question}\\n\")\n",
    "    response = \"\"\n",
    "    try:\n",
    "        async for chunk in chain.astream(question):\n",
    "            response += chunk\n",
    "            clear_output(wait=True)\n",
    "            print(f\"Pregunta: {question}\")\n",
    "            print(f\"Respuesta: {response}\", flush=True)\n",
    "        return response\n",
    "    except Exception as e:\n",
    "        print(f\"Error: {str(e)}\")\n",
    "        return None\n",
    "\n",
    "# Función para ejecutar la pregunta\n",
    "def run_single_question(question):\n",
    "    return asyncio.get_event_loop().run_until_complete(process_question(question))"
   ]
  },
  {
   "cell_type": "code",
   "execution_count": 30,
   "metadata": {},
   "outputs": [
    {
     "name": "stdout",
     "output_type": "stream",
     "text": [
      "Pregunta: Cual es la mision del CADS\n",
      "Respuesta: <response>\n",
      "El CADS tiene una misión claramente definida: asegurarse de brindar tecnologías de gran rendimiento para el cálculo, almacenamiento y comunicaciones a través de la ciudad universitaria. También tiene un propósito fundamental de brindar una posibilidad y una experiencia amplia de las investigaciones científicas y el desarrollo tecnológico para todas aquellos que buscan hacerlo en la ciudad universitaria.\n"
     ]
    }
   ],
   "source": [
    "respuesta=run_single_question(\"Cual es la mision del CADS\")"
   ]
  }
 ],
 "metadata": {
  "kernelspec": {
   "display_name": "Python 3",
   "language": "python",
   "name": "python3"
  },
  "language_info": {
   "codemirror_mode": {
    "name": "ipython",
    "version": 3
   },
   "file_extension": ".py",
   "mimetype": "text/x-python",
   "name": "python",
   "nbconvert_exporter": "python",
   "pygments_lexer": "ipython3",
   "version": "3.11.5"
  }
 },
 "nbformat": 4,
 "nbformat_minor": 2
}
